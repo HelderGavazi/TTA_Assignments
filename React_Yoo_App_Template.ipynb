{
  "nbformat": 4,
  "nbformat_minor": 0,
  "metadata": {
    "colab": {
      "provenance": [],
      "mount_file_id": "1w9E3UxAaX4IHg2XtJk4yQTFKLx6HPQN9",
      "authorship_tag": "ABX9TyNAT3wfgabXGvW0VbO5+Xzz",
      "include_colab_link": true
    },
    "kernelspec": {
      "name": "python3",
      "display_name": "Python 3"
    },
    "language_info": {
      "name": "python"
    }
  },
  "cells": [
    {
      "cell_type": "markdown",
      "metadata": {
        "id": "view-in-github",
        "colab_type": "text"
      },
      "source": [
        "<a href=\"https://colab.research.google.com/github/HelderGavazi/TTA_Assignments/blob/main/React_Yoo_App_Template.ipynb\" target=\"_parent\"><img src=\"https://colab.research.google.com/assets/colab-badge.svg\" alt=\"Open In Colab\"/></a>"
      ]
    },
    {
      "cell_type": "markdown",
      "source": [
        "# **React Yoo-App**\n",
        "React Yoo-App template in google colab..."
      ],
      "metadata": {
        "id": "GHyNNC9SQN_V"
      }
    },
    {
      "cell_type": "code",
      "source": [
        "!npx create-react-app yoochicoo-app"
      ],
      "metadata": {
        "id": "pKXbjOUXQS1S"
      },
      "execution_count": null,
      "outputs": []
    },
    {
      "cell_type": "code",
      "source": [
        "%cd /content/yoochicoo-app"
      ],
      "metadata": {
        "id": "dj8ohbf2SOK9",
        "colab": {
          "base_uri": "https://localhost:8080/"
        },
        "outputId": "59c7fa22-8740-4383-f0ff-cd48a10eeae5"
      },
      "execution_count": 69,
      "outputs": [
        {
          "output_type": "stream",
          "name": "stdout",
          "text": [
            "/content/yoochicoo-app\n"
          ]
        }
      ]
    },
    {
      "cell_type": "code",
      "source": [
        "!pip install pyngrok --quiet"
      ],
      "metadata": {
        "id": "7k7WYKsgTnXE"
      },
      "execution_count": null,
      "outputs": []
    },
    {
      "cell_type": "code",
      "source": [
        "from pyngrok import ngrok"
      ],
      "metadata": {
        "id": "AnBFb7_eTwHL"
      },
      "execution_count": null,
      "outputs": []
    },
    {
      "cell_type": "code",
      "source": [
        "ngrok.connect(3000)"
      ],
      "metadata": {
        "id": "kQFLTNrFT5jg",
        "colab": {
          "base_uri": "https://localhost:8080/"
        },
        "outputId": "d839fa97-a5e7-4118-f305-22588b164bdf"
      },
      "execution_count": 77,
      "outputs": [
        {
          "output_type": "execute_result",
          "data": {
            "text/plain": [
              "<NgrokTunnel: \"http://a019-35-185-87-140.ngrok.io\" -> \"http://localhost:3000\">"
            ]
          },
          "metadata": {},
          "execution_count": 77
        }
      ]
    },
    {
      "cell_type": "code",
      "source": [
        "!npm start"
      ],
      "metadata": {
        "id": "jlE9qGzGVlKP",
        "colab": {
          "base_uri": "https://localhost:8080/"
        },
        "outputId": "5b61ce50-0b44-48dd-d60b-1188408f1714"
      },
      "execution_count": 78,
      "outputs": [
        {
          "output_type": "stream",
          "name": "stdout",
          "text": [
            "\n",
            "> yoochicoo-app@0.1.0 start /content/yoochicoo-app\n",
            "> react-scripts start\n",
            "\n",
            "(node:1972) [DEP_WEBPACK_DEV_SERVER_ON_AFTER_SETUP_MIDDLEWARE] DeprecationWarning: 'onAfterSetupMiddleware' option is deprecated. Please use the 'setupMiddlewares' option.\n",
            "(Use `node --trace-deprecation ...` to show where the warning was created)\n",
            "(node:1972) [DEP_WEBPACK_DEV_SERVER_ON_BEFORE_SETUP_MIDDLEWARE] DeprecationWarning: 'onBeforeSetupMiddleware' option is deprecated. Please use the 'setupMiddlewares' option.\n",
            "\u001b[2J\u001b[3J\u001b[H\u001b[36mStarting the development server...\u001b[39m\n",
            "\u001b[36m\u001b[39m\n",
            "\u001b[2J\u001b[3J\u001b[H\u001b[32mCompiled successfully!\u001b[39m\n",
            "\n",
            "You can now view \u001b[1myoochicoo-app\u001b[22m in the browser.\n",
            "\n",
            "  \u001b[1mLocal:\u001b[22m            http://localhost:\u001b[1m3000\u001b[22m\n",
            "  \u001b[1mOn Your Network:\u001b[22m  http://172.28.0.12:\u001b[1m3000\u001b[22m\n",
            "\n",
            "Note that the development build is not optimized.\n",
            "To create a production build, use \u001b[36mnpm run build\u001b[39m.\n",
            "\n",
            "webpack compiled \u001b[1m\u001b[32msuccessfully\u001b[39m\u001b[22m\n"
          ]
        }
      ]
    },
    {
      "cell_type": "code",
      "source": [
        "ngrok.kill()"
      ],
      "metadata": {
        "id": "Q1_GwRftV257"
      },
      "execution_count": 79,
      "outputs": []
    },
    {
      "cell_type": "code",
      "source": [
        "%cd /content/yoochicoo-app/src"
      ],
      "metadata": {
        "colab": {
          "base_uri": "https://localhost:8080/"
        },
        "id": "FqAt2JLnjErC",
        "outputId": "652fd052-a13e-44bf-bfa3-6fe0fe6e2e5e"
      },
      "execution_count": 38,
      "outputs": [
        {
          "output_type": "stream",
          "name": "stdout",
          "text": [
            "/content/yoochicoo-app/src\n"
          ]
        }
      ]
    }
  ]
}